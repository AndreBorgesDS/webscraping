{
 "cells": [
  {
   "cell_type": "markdown",
   "id": "ea3e3685",
   "metadata": {},
   "source": [
    "# A BIBLIOTECA BEAUTIFUL SOUP-TEORIA"
   ]
  },
  {
   "cell_type": "code",
   "execution_count": 1,
   "id": "835719e0",
   "metadata": {
    "ExecuteTime": {
     "end_time": "2021-08-05T16:27:38.095604Z",
     "start_time": "2021-08-05T16:27:38.070819Z"
    }
   },
   "outputs": [],
   "source": [
    "# importar a biblioteca \n",
    "from bs4 import BeautifulSoup"
   ]
  },
  {
   "cell_type": "code",
   "execution_count": 5,
   "id": "520940a3",
   "metadata": {
    "ExecuteTime": {
     "end_time": "2021-08-05T16:35:09.910396Z",
     "start_time": "2021-08-05T16:35:09.906688Z"
    }
   },
   "outputs": [],
   "source": [
    "# html de exploração\n",
    "html_doc = \"\"\"<html><head><title>The Dormouse's story</title></head>\n",
    "<body>\n",
    "<p class=\"title\"><b>The Dormouse's story</b></p>\n",
    "\n",
    "<p class=\"story\">Once upon a time there were three little sisters; and their names were\n",
    "<a href=\"http://example.com/elsie\" class=\"sister\" id=\"link1\">Elsie</a>,\n",
    "<a href=\"http://example.com/lacie\" class=\"sister\" id=\"link2\">Lacie</a> and\n",
    "<a href=\"http://example.com/tillie\" class=\"sister\" id=\"link3\">Tillie</a>;\n",
    "and they lived at the bottom of a well.</p>\n",
    "\n",
    "<p class=\"story\">...</p>\n",
    "\"\"\""
   ]
  },
  {
   "cell_type": "code",
   "execution_count": 6,
   "id": "433a66f2",
   "metadata": {
    "ExecuteTime": {
     "end_time": "2021-08-05T16:35:12.151747Z",
     "start_time": "2021-08-05T16:35:12.147808Z"
    }
   },
   "outputs": [],
   "source": [
    "# instaciar a classe principal e parser (html ou xlm = tem que instlar)\n",
    "soup = BeautifulSoup(html_doc, 'html.parser')"
   ]
  },
  {
   "cell_type": "code",
   "execution_count": 7,
   "id": "705ca1af",
   "metadata": {
    "ExecuteTime": {
     "end_time": "2021-08-05T16:35:16.028857Z",
     "start_time": "2021-08-05T16:35:16.013113Z"
    }
   },
   "outputs": [
    {
     "data": {
      "text/plain": [
       "<html><head><title>The Dormouse's story</title></head>\n",
       "<body>\n",
       "<p class=\"title\"><b>The Dormouse's story</b></p>\n",
       "<p class=\"story\">Once upon a time there were three little sisters; and their names were\n",
       "<a class=\"sister\" href=\"http://example.com/elsie\" id=\"link1\">Elsie</a>,\n",
       "<a class=\"sister\" href=\"http://example.com/lacie\" id=\"link2\">Lacie</a> and\n",
       "<a class=\"sister\" href=\"http://example.com/tillie\" id=\"link3\">Tillie</a>;\n",
       "and they lived at the bottom of a well.</p>\n",
       "<p class=\"story\">...</p>\n",
       "</body></html>"
      ]
     },
     "execution_count": 7,
     "metadata": {},
     "output_type": "execute_result"
    }
   ],
   "source": [
    "soup"
   ]
  },
  {
   "cell_type": "code",
   "execution_count": 10,
   "id": "ce8c5a5c",
   "metadata": {
    "ExecuteTime": {
     "end_time": "2021-08-05T16:48:06.472234Z",
     "start_time": "2021-08-05T16:48:06.459905Z"
    }
   },
   "outputs": [
    {
     "name": "stdout",
     "output_type": "stream",
     "text": [
      "<body>\n",
      "<p class=\"title\"><b>The Dormouse's story</b></p>\n",
      "<p class=\"story\">Once upon a time there were three little sisters; and their names were\n",
      "<a class=\"sister\" href=\"http://example.com/elsie\" id=\"link1\">Elsie</a>,\n",
      "<a class=\"sister\" href=\"http://example.com/lacie\" id=\"link2\">Lacie</a> and\n",
      "<a class=\"sister\" href=\"http://example.com/tillie\" id=\"link3\">Tillie</a>;\n",
      "and they lived at the bottom of a well.</p>\n",
      "<p class=\"story\">...</p>\n",
      "</body>\n",
      "\n",
      "\n",
      "<p class=\"title\"><b>The Dormouse's story</b></p>\n"
     ]
    }
   ],
   "source": [
    "# selecionar as partes do html\n",
    "print(soup.body)\n",
    "print('\\n')\n",
    "print(soup.p)"
   ]
  },
  {
   "cell_type": "code",
   "execution_count": 16,
   "id": "6872c90b",
   "metadata": {
    "ExecuteTime": {
     "end_time": "2021-08-05T16:54:16.098830Z",
     "start_time": "2021-08-05T16:54:16.076822Z"
    }
   },
   "outputs": [
    {
     "data": {
      "text/plain": [
       "[<p class=\"story\">Once upon a time there were three little sisters; and their names were\n",
       " <a class=\"sister\" href=\"http://example.com/elsie\" id=\"link1\">Elsie</a>,\n",
       " <a class=\"sister\" href=\"http://example.com/lacie\" id=\"link2\">Lacie</a> and\n",
       " <a class=\"sister\" href=\"http://example.com/tillie\" id=\"link3\">Tillie</a>;\n",
       " and they lived at the bottom of a well.</p>,\n",
       " <p class=\"story\">...</p>]"
      ]
     },
     "execution_count": 16,
     "metadata": {},
     "output_type": "execute_result"
    }
   ],
   "source": [
    "# selecionar partes especificas do html\n",
    "# pegar o segundo p\n",
    "\n",
    "soup.find_all('p')[1]\n",
    "\n",
    "# ou posso fazer (coloque class_ para atribuir qual vc quer)(vira uma lista)\n",
    "\n",
    "soup.find_all('p', class_='story')"
   ]
  },
  {
   "cell_type": "code",
   "execution_count": 20,
   "id": "90eeb983",
   "metadata": {
    "ExecuteTime": {
     "end_time": "2021-08-05T17:01:57.470663Z",
     "start_time": "2021-08-05T17:01:57.454943Z"
    }
   },
   "outputs": [
    {
     "data": {
      "text/plain": [
       "'Lacie'"
      ]
     },
     "execution_count": 20,
     "metadata": {},
     "output_type": "execute_result"
    }
   ],
   "source": [
    "# pegar so os links, e o nome Lacie\n",
    "# geralmente o id é unico e pode ser atribuido\n",
    "# como ele retorna lista para pegar o elemento inclui [0]\n",
    "\n",
    "soup.find_all('a', id='link2')[0]\n",
    "\n",
    "# se quiser pegar so o nome vc pode usar .string ou .get_text() |soup.find_all('a', id='link2')[0].string|"
   ]
  }
 ],
 "metadata": {
  "kernelspec": {
   "display_name": "Python 3",
   "language": "python",
   "name": "python3"
  },
  "language_info": {
   "codemirror_mode": {
    "name": "ipython",
    "version": 3
   },
   "file_extension": ".py",
   "mimetype": "text/x-python",
   "name": "python",
   "nbconvert_exporter": "python",
   "pygments_lexer": "ipython3",
   "version": "3.8.8"
  },
  "toc": {
   "base_numbering": 1,
   "nav_menu": {},
   "number_sections": true,
   "sideBar": true,
   "skip_h1_title": false,
   "title_cell": "Table of Contents",
   "title_sidebar": "Contents",
   "toc_cell": false,
   "toc_position": {},
   "toc_section_display": true,
   "toc_window_display": false
  }
 },
 "nbformat": 4,
 "nbformat_minor": 5
}
